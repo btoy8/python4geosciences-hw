{
 "cells": [
  {
   "cell_type": "code",
   "execution_count": null,
   "metadata": {
    "collapsed": true
   },
   "outputs": [],
   "source": [
    "#1\n",
    "d = {'name':'Brittany Toy', 'hometown':'Houston,TX', 'Department':'Atmospheric Sciences', 'Student Status':'Undergrad', 'Years at TAMU':'3 years', 'Explaination':'To expand my knowledge in python coding and hopefully apply this to my research'}"
   ]
  },
  {
   "cell_type": "code",
   "execution_count": 1,
   "metadata": {
    "collapsed": false
   },
   "outputs": [
    {
     "name": "stdout",
     "output_type": "stream",
     "text": [
      "true\n",
      "false\n",
      "false\n"
     ]
    }
   ],
   "source": [
    "#2\n",
    "def isVowel(x): \n",
    "    if x in {'a','e','i','o','u','A','E','I','O','U'}:\n",
    "        print('true')\n",
    "    else: \n",
    "        print('false')\n",
    "isVowel('a')\n",
    "isVowel('b')\n",
    "isVowel('R')"
   ]
  },
  {
   "cell_type": "code",
   "execution_count": 2,
   "metadata": {
    "collapsed": false
   },
   "outputs": [
    {
     "name": "stdout",
     "output_type": "stream",
     "text": [
      "2\n",
      "7\n"
     ]
    }
   ],
   "source": [
    "#3\n",
    "def length(x):\n",
    "    num = 0\n",
    "    for word in x:\n",
    "        num = num + 1\n",
    "    print(num)\n",
    "    \n",
    "length(['string1','string2'])   \n",
    "length('string1')"
   ]
  },
  {
   "cell_type": "code",
   "execution_count": 3,
   "metadata": {
    "collapsed": false
   },
   "outputs": [
    {
     "data": {
      "text/plain": [
       "'gnitset ma I'"
      ]
     },
     "execution_count": 3,
     "metadata": {},
     "output_type": "execute_result"
    }
   ],
   "source": [
    "#4\n",
    "def reverse(x):\n",
    "    return x[::-1]\n",
    "\n",
    "reverse(\"I am testing\")"
   ]
  },
  {
   "cell_type": "code",
   "execution_count": 4,
   "metadata": {
    "collapsed": false
   },
   "outputs": [
    {
     "name": "stdout",
     "output_type": "stream",
     "text": [
      "True\n"
     ]
    }
   ],
   "source": [
    "#5\n",
    "def is_palindrome(x):\n",
    "    x= x.lower()\n",
    "    x= x.split()\n",
    "    x= ''.join(x)\n",
    "    if x in reverse(x):\n",
    "        print ('True')\n",
    "    else:\n",
    "        print ('False')\n",
    "is_palindrome(\"Never odd or even\")\n",
    "    "
   ]
  },
  {
   "cell_type": "code",
   "execution_count": 17,
   "metadata": {
    "collapsed": false
   },
   "outputs": [
    {
     "name": "stdout",
     "output_type": "stream",
     "text": [
      "1 The MIT License (MIT)\n",
      "\n",
      "2 \n",
      "\n",
      "3 Copyright (c) 2016 Robert D. Hetland and Kristen M. Thyng\n",
      "\n",
      "4 \n",
      "\n",
      "5 Permission is hereby granted, free of charge, to any person obtaining a copy\n",
      "\n",
      "6 of this software and associated documentation files (the \"Software\"), to deal\n",
      "\n",
      "7 in the Software without restriction, including without limitation the rights\n",
      "\n",
      "8 to use, copy, modify, merge, publish, distribute, sublicense, and/or sell\n",
      "\n",
      "9 copies of the Software, and to permit persons to whom the Software is\n",
      "\n",
      "10 furnished to do so, subject to the following conditions:\n",
      "\n",
      "11 \n",
      "\n",
      "12 The above copyright notice and this permission notice shall be included in all\n",
      "\n",
      "13 copies or substantial portions of the Software.\n",
      "\n",
      "14 \n",
      "\n",
      "15 THE SOFTWARE IS PROVIDED \"AS IS\", WITHOUT WARRANTY OF ANY KIND, EXPRESS OR\n",
      "\n",
      "16 IMPLIED, INCLUDING BUT NOT LIMITED TO THE WARRANTIES OF MERCHANTABILITY,\n",
      "\n",
      "17 FITNESS FOR A PARTICULAR PURPOSE AND NONINFRINGEMENT. IN NO EVENT SHALL THE\n",
      "\n",
      "18 AUTHORS OR COPYRIGHT HOLDERS BE LIABLE FOR ANY CLAIM, DAMAGES OR OTHER\n",
      "\n",
      "19 LIABILITY, WHETHER IN AN ACTION OF CONTRACT, TORT OR OTHERWISE, ARISING FROM,\n",
      "\n",
      "20 OUT OF OR IN CONNECTION WITH THE SOFTWARE OR THE USE OR OTHER DEALINGS IN THE\n",
      "\n",
      "21 SOFTWARE.\n"
     ]
    }
   ],
   "source": [
    "#6\n",
    "text_file = open('../python4geosciences/LICENSE.txt')\n",
    "lines = text_file.readlines()\n",
    "for idx, line in enumerate(lines):\n",
    "    print((idx+1), line)\n"
   ]
  },
  {
   "cell_type": "code",
   "execution_count": 6,
   "metadata": {
    "collapsed": false
   },
   "outputs": [
    {
     "data": {
      "text/plain": [
       "[4, 2, 5]"
      ]
     },
     "execution_count": 6,
     "metadata": {},
     "output_type": "execute_result"
    }
   ],
   "source": [
    "#7 for loop\n",
    "def method1(x):\n",
    "    def length(x):\n",
    "        num = 0\n",
    "        for word in x:\n",
    "            num = num + 1\n",
    "        return num\n",
    "    b=[]\n",
    "    for t in x: \n",
    "        l = length(t)\n",
    "        b.append(l)\n",
    "    return b\n",
    "    \n",
    "method1(['list','of','words'])   \n"
   ]
  },
  {
   "cell_type": "code",
   "execution_count": 7,
   "metadata": {
    "collapsed": false
   },
   "outputs": [
    {
     "data": {
      "text/plain": [
       "[4, 2, 5]"
      ]
     },
     "execution_count": 7,
     "metadata": {},
     "output_type": "execute_result"
    }
   ],
   "source": [
    "#7 higher order function map\n",
    "def method2(x): \n",
    "    def length(a):\n",
    "        num = 0\n",
    "        for word in a:\n",
    "            num = num + 1\n",
    "        return num\n",
    "    return list(map(length, x))\n",
    "method2(['list','of','words'])"
   ]
  },
  {
   "cell_type": "code",
   "execution_count": 8,
   "metadata": {
    "collapsed": false
   },
   "outputs": [
    {
     "data": {
      "text/plain": [
       "[4, 2, 5]"
      ]
     },
     "execution_count": 8,
     "metadata": {},
     "output_type": "execute_result"
    }
   ],
   "source": [
    "#7 list comprehensions\n",
    "def method3(x):\n",
    "    def length(a):\n",
    "        num = 0\n",
    "        for word in a:\n",
    "            num = num + 1\n",
    "        return num\n",
    "    return [length(c) for c in x]\n",
    "\n",
    "method3(['list','of','words'])"
   ]
  },
  {
   "cell_type": "code",
   "execution_count": 10,
   "metadata": {
    "collapsed": false
   },
   "outputs": [
    {
     "data": {
      "text/plain": [
       "'Caesar cipher? I much prefer Caesar salad!'"
      ]
     },
     "execution_count": 10,
     "metadata": {},
     "output_type": "execute_result"
    }
   ],
   "source": [
    "#8\n",
    "def ceasar(f): \n",
    "    key = {'a':'n', 'b':'o', 'c':'p', 'd':'q', 'e':'r', 'f':'s', 'g':'t', 'h':'u', \n",
    "       'i':'v', 'j':'w', 'k':'x', 'l':'y', 'm':'z', 'n':'a', 'o':'b', 'p':'c', \n",
    "       'q':'d', 'r':'e', 's':'f', 't':'g', 'u':'h', 'v':'i', 'w':'j', 'x':'k',\n",
    "       'y':'l', 'z':'m', 'A':'N', 'B':'O', 'C':'P', 'D':'Q', 'E':'R', 'F':'S', \n",
    "       'G':'T', 'H':'U', 'I':'V', 'J':'W', 'K':'X', 'L':'Y', 'M':'Z', 'N':'A', \n",
    "       'O':'B', 'P':'C', 'Q':'D', 'R':'E', 'S':'F', 'T':'G', 'U':'H', 'V':'I', \n",
    "       'W':'J', 'X':'K', 'Y':'L', 'Z':'M', '?':'?', '!':'!', ' ':' '}\n",
    "    lit = []\n",
    "    cod = []\n",
    "    for letter in f:\n",
    "        lite = list(letter)\n",
    "        for t in lite: \n",
    "            lit.append(t)\n",
    "    for q in lit:\n",
    "        decod = key[q]\n",
    "        cod.append(decod)\n",
    "    decoding = ''.join(cod)\n",
    "    return decoding \n",
    "\n",
    "\n",
    "\n",
    "ceasar('Pnrfne pvcure? V zhpu cersre Pnrfne fnynq!')\n",
    "    "
   ]
  },
  {
   "cell_type": "code",
   "execution_count": 1,
   "metadata": {
    "collapsed": false
   },
   "outputs": [
    {
     "name": "stdout",
     "output_type": "stream",
     "text": [
      "3 bottles of beer on the wall, 3 bottles of beer.\n",
      "Take one down, pass it around, 2 bottles of beer on the wall.\n",
      "\n",
      "2 bottles of beer on the wall, 2 bottles of beer.\n",
      "Take one down, pass it around, 1 bottles of beer on the wall.\n",
      "\n",
      "1 bottle of beer on the wall, 1 bottle of beer.\n",
      "Take one down, pass it around, 0 bottles of beer on the wall.\n",
      "\n"
     ]
    }
   ],
   "source": [
    "#9\n",
    "def words(num):\n",
    "    \"\"\"Returns words with proper number of beer bottles filled in.\"\"\"\n",
    "    \n",
    "    if num != 1: #add colon\n",
    "        return str(num) + ' bottles of beer on the wall, ' + str(num) + ' bottles of beer.\\n' + 'Take one down, pass it around, ' + str(num-1) + ' bottles of beer on the wall.\\n'\n",
    "# code on one line\n",
    "    elif num == 1: #added = \n",
    "        return str(num) + ' bottle of beer on the wall, ' + str(num) + ' bottle of beer.\\n' + 'Take one down, pass it around, ' + str(num-1) + ' bottles of beer on the wall.\\n'\n",
    "#code on one line and removed \\\n",
    "\n",
    "numbottles = 4 #made from 3 to 4\n",
    "        \n",
    "for i in range(1, numbottles, 1)[::-1]:\n",
    "     print(words(i))\n",
    "#took off[ ] and added (), changed 0 to 1, added :, and shifted print over"
   ]
  },
  {
   "cell_type": "code",
   "execution_count": 16,
   "metadata": {
    "collapsed": false
   },
   "outputs": [],
   "source": [
    "#10\n",
    "class maps(object):\n",
    "    def __init__(self, date=None, time=None):\n",
    "        self.date = date\n",
    "        self.time = time\n",
    "        \n",
    "datetime = []\n",
    "gpsfile = open('../python4geosciences/data/GPS.dat')\n",
    "gpslines = gpsfile.readlines()\n",
    "for line in gpslines:\n",
    "    lin = line.split()\n",
    "    if not lin: continue\n",
    "    if lin[0] == 'Trackpoint':\n",
    "        date = lin[5]\n",
    "        time = lin[6]\n",
    "        datetime.append(maps(date, time))\n",
    "\n"
   ]
  },
  {
   "cell_type": "code",
   "execution_count": null,
   "metadata": {
    "collapsed": true
   },
   "outputs": [],
   "source": []
  }
 ],
 "metadata": {
  "kernelspec": {
   "display_name": "Python 3",
   "language": "python",
   "name": "python3"
  },
  "language_info": {
   "codemirror_mode": {
    "name": "ipython",
    "version": 3
   },
   "file_extension": ".py",
   "mimetype": "text/x-python",
   "name": "python",
   "nbconvert_exporter": "python",
   "pygments_lexer": "ipython3",
   "version": "3.5.1"
  }
 },
 "nbformat": 4,
 "nbformat_minor": 0
}
