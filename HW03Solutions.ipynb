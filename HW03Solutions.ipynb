{
 "cells": [
  {
   "cell_type": "code",
   "execution_count": null,
   "metadata": {
    "collapsed": true
   },
   "outputs": [],
   "source": [
    "# Brittany Toy \n",
    "# OCNG 489\n",
    "# HW 3"
   ]
  },
  {
   "cell_type": "code",
   "execution_count": 2,
   "metadata": {
    "collapsed": false
   },
   "outputs": [
    {
     "name": "stdout",
     "output_type": "stream",
     "text": [
      "[ 0.  0.  0.  0.  1.  0.  0.  0.  0.  0.]\n"
     ]
    }
   ],
   "source": [
    "#1 Vector Manipulation \n",
    "import numpy as np\n",
    "a = np.zeros(10)\n",
    "a[4] = 1\n",
    "print (a)"
   ]
  },
  {
   "cell_type": "code",
   "execution_count": 21,
   "metadata": {
    "collapsed": false
   },
   "outputs": [
    {
     "data": {
      "text/plain": [
       "array([10, 11, 12, 13, 14, 15, 16, 17, 18, 19, 20, 21, 22, 23, 24, 25, 26,\n",
       "       27, 28, 29, 30, 31, 32, 33, 34, 35, 36, 37, 38, 39, 40, 41, 42, 43,\n",
       "       44, 45, 46, 47, 48, 49])"
      ]
     },
     "execution_count": 21,
     "metadata": {},
     "output_type": "execute_result"
    }
   ],
   "source": [
    "#2 Vector Range\n",
    "a = np.arange(10,50)\n",
    "a"
   ]
  },
  {
   "cell_type": "code",
   "execution_count": 22,
   "metadata": {
    "collapsed": false
   },
   "outputs": [
    {
     "data": {
      "text/plain": [
       "array([49, 48, 47, 46, 45, 44, 43, 42, 41, 40, 39, 38, 37, 36, 35, 34, 33,\n",
       "       32, 31, 30, 29, 28, 27, 26, 25, 24, 23, 22, 21, 20, 19, 18, 17, 16,\n",
       "       15, 14, 13, 12, 11, 10])"
      ]
     },
     "execution_count": 22,
     "metadata": {},
     "output_type": "execute_result"
    }
   ],
   "source": [
    "#3 Reverse Vector\n",
    "def reverse(a):\n",
    "    return a[::-1]\n",
    "reverse(a)"
   ]
  },
  {
   "cell_type": "code",
   "execution_count": 4,
   "metadata": {
    "collapsed": false
   },
   "outputs": [
    {
     "data": {
      "text/plain": [
       "array([1, 2, 4])"
      ]
     },
     "execution_count": 4,
     "metadata": {},
     "output_type": "execute_result"
    }
   ],
   "source": [
    "#4 Find indices of non-zero elements \n",
    "def find_nonzero(ap):\n",
    "    return np.nonzero(ap)\n",
    "ap = np.array([1,2,0,0,4,0])\n",
    "find_nonzero(ap)\n",
    "ap[find_nonzero(ap)]"
   ]
  },
  {
   "cell_type": "code",
   "execution_count": 7,
   "metadata": {
    "collapsed": false
   },
   "outputs": [
    {
     "data": {
      "text/plain": [
       "array([[[-0.32507333,  0.49994333,  1.04481869],\n",
       "        [ 0.41721879,  1.25126945, -0.72575781],\n",
       "        [ 0.62721207, -1.26254434,  0.56955997]],\n",
       "\n",
       "       [[-0.1065434 ,  0.72746738, -0.70275281],\n",
       "        [-0.02943265,  0.86390049, -0.9378579 ],\n",
       "        [ 1.90450606, -0.12020118,  0.40148085]],\n",
       "\n",
       "       [[-1.83171338,  0.82075204,  1.05384895],\n",
       "        [-0.97046528, -0.38255387,  0.50649119],\n",
       "        [-0.61366659, -0.83219322,  1.04264911]]])"
      ]
     },
     "execution_count": 7,
     "metadata": {},
     "output_type": "execute_result"
    }
   ],
   "source": [
    "#5 Array with random values\n",
    "M = np.random.normal(0,1,(3,3,3))\n",
    "M"
   ]
  },
  {
   "cell_type": "code",
   "execution_count": 13,
   "metadata": {
    "collapsed": false
   },
   "outputs": [
    {
     "name": "stdout",
     "output_type": "stream",
     "text": [
      "[[ 0.28870012  0.58108433  0.33750819  0.25538434  0.32269328  0.31424609\n",
      "   0.17283519  0.37137725  0.93524483  0.58105489]\n",
      " [ 0.08038587  0.02429819  0.91359305  0.36561426  0.49639543  0.14417165\n",
      "   0.781185    0.66417001  0.83336811  0.58356787]\n",
      " [ 0.20055148  0.77362721  0.4862852   0.69698683  0.25674369  0.77154188\n",
      "   0.50259379  0.24851767  0.38261965  0.08569006]\n",
      " [ 0.45007765  0.53029814  0.98690059  0.28897379  0.39514318  0.86123315\n",
      "   0.81292956  0.75270663  0.42707899  0.55037726]\n",
      " [ 0.80259487  0.07267742  0.62753012  0.066933    0.1188031   0.17099634\n",
      "   0.3428773   0.28291642  0.56417697  0.92759824]\n",
      " [ 0.34477908  0.55112752  0.76004152  0.06152267  0.07310254  0.91751438\n",
      "   0.9989773   0.71389889  0.71281545  0.50780458]\n",
      " [ 0.49094098  0.13137719  0.39242198  0.27391063  0.12234055  0.14421848\n",
      "   0.76078431  0.62482259  0.51243703  0.38445404]\n",
      " [ 0.24467134  0.08010301  0.19088834  0.03843793  0.81233552  0.69359143\n",
      "   0.53551801  0.90605176  0.22429521  0.54136572]\n",
      " [ 0.61709889  0.40122905  0.7117248   0.85951945  0.0659619   0.60085377\n",
      "   0.34659091  0.04444386  0.55681112  0.35791241]\n",
      " [ 0.83039723  0.72757117  0.64796724  0.88512089  0.97793412  0.57450077\n",
      "   0.63354938  0.66173194  0.84511748  0.69411498]]\n",
      "0.0384379293147 0.913593052631\n"
     ]
    }
   ],
   "source": [
    "#6 Operations on an array with random values\n",
    "N = np.random.random((10,10))\n",
    "print(N)\n",
    "Nmin = np.min(N[:,3])\n",
    "Nmax = np.max(N[1,:])\n",
    "print(Nmin,Nmax)"
   ]
  },
  {
   "cell_type": "code",
   "execution_count": 8,
   "metadata": {
    "collapsed": false
   },
   "outputs": [
    {
     "name": "stdout",
     "output_type": "stream",
     "text": [
      "[ 0.09090909  0.18181818  0.27272727  0.36363636  0.45454545  0.54545455\n",
      "  0.63636364  0.72727273  0.81818182  0.90909091]\n"
     ]
    }
   ],
   "source": [
    "#7 Vectors without end points \n",
    "G = np.linspace(0,1,12,endpoint=True)[1:-1]\n",
    "print(G)"
   ]
  },
  {
   "cell_type": "code",
   "execution_count": 9,
   "metadata": {
    "collapsed": false
   },
   "outputs": [
    {
     "name": "stdout",
     "output_type": "stream",
     "text": [
      "[ 0.03151444  0.18022673  0.20998668  0.33687334  0.44133543  0.55906477\n",
      "  0.65880533  0.77277659  0.86176105  0.91999185]\n"
     ]
    }
   ],
   "source": [
    "#8 Sorted vector\n",
    "R = np.random.random(10)\n",
    "R.sort()\n",
    "print(R)"
   ]
  },
  {
   "cell_type": "code",
   "execution_count": 7,
   "metadata": {
    "collapsed": false
   },
   "outputs": [
    {
     "name": "stdout",
     "output_type": "stream",
     "text": [
      "[ True  True]\n"
     ]
    }
   ],
   "source": [
    "#9 Test for array equality \n",
    "def is_equal(A,B): \n",
    "    return A==B\n",
    "A = np.array([6,5])\n",
    "B = np.array([6,5])\n",
    "\n",
    "print(is_equal(A,B))"
   ]
  },
  {
   "cell_type": "code",
   "execution_count": 9,
   "metadata": {
    "collapsed": false
   },
   "outputs": [
    {
     "name": "stdout",
     "output_type": "stream",
     "text": [
      "[[ 0.03894945 -0.11552459 -0.26087021  0.12661452  0.13391773 -0.0537429\n",
      "   0.06782137 -0.30865695 -0.00098393  0.37247551]\n",
      " [ 0.27728608  0.11217925  0.20420044  0.05996276 -0.07093536 -0.50359303\n",
      "   0.17245742  0.18639467 -0.05846577 -0.37948645]\n",
      " [ 0.32550031  0.05818582  0.07593896  0.17566009  0.05368995 -0.33373821\n",
      "  -0.40961444 -0.36012497  0.15042914  0.26407336]\n",
      " [-0.37355929 -0.27567808 -0.36893016  0.22429599  0.30523895  0.46318548\n",
      "  -0.02220463  0.32617739 -0.27922411  0.00069846]\n",
      " [ 0.12637809 -0.22014852 -0.00703469  0.50121822  0.14803651 -0.26249139\n",
      "  -0.30808694 -0.09087478  0.46370427 -0.35070078]]\n"
     ]
    }
   ],
   "source": [
    "#10 Subtract the row mean from rows of a matrix\n",
    "C = np.random.rand(5,10)\n",
    "Q = C - C.mean(axis=1, keepdims=True)\n",
    "\n",
    "print(Q)"
   ]
  },
  {
   "cell_type": "code",
   "execution_count": 13,
   "metadata": {
    "collapsed": false
   },
   "outputs": [
    {
     "name": "stdout",
     "output_type": "stream",
     "text": [
      "[[[ 8.  8.  8.]\n",
      "  [ 8.  8.  8.]\n",
      "  [ 8.  8.  8.]\n",
      "  [ 8.  8.  8.]\n",
      "  [ 8.  8.  8.]]\n",
      "\n",
      " [[ 8.  8.  8.]\n",
      "  [ 8.  8.  8.]\n",
      "  [ 8.  8.  8.]\n",
      "  [ 8.  8.  8.]\n",
      "  [ 8.  8.  8.]]\n",
      "\n",
      " [[ 8.  8.  8.]\n",
      "  [ 8.  8.  8.]\n",
      "  [ 8.  8.  8.]\n",
      "  [ 8.  8.  8.]\n",
      "  [ 8.  8.  8.]]\n",
      "\n",
      " [[ 8.  8.  8.]\n",
      "  [ 8.  8.  8.]\n",
      "  [ 8.  8.  8.]\n",
      "  [ 8.  8.  8.]\n",
      "  [ 8.  8.  8.]]\n",
      "\n",
      " [[ 8.  8.  8.]\n",
      "  [ 8.  8.  8.]\n",
      "  [ 8.  8.  8.]\n",
      "  [ 8.  8.  8.]\n",
      "  [ 8.  8.  8.]]]\n"
     ]
    }
   ],
   "source": [
    "#11 Multiply arrays\n",
    "#Part A Multiplying (5,5,3) by (5,5)\n",
    "W = np.ones((5,5,3))\n",
    "I = 8*np.ones((5,5))\n",
    "print(W * I[:,:,None])"
   ]
  },
  {
   "cell_type": "code",
   "execution_count": 12,
   "metadata": {
    "collapsed": false
   },
   "outputs": [
    {
     "name": "stdout",
     "output_type": "stream",
     "text": [
      "[[[ 8.  8.  8.  8.  8.]\n",
      "  [ 8.  8.  8.  8.  8.]\n",
      "  [ 8.  8.  8.  8.  8.]\n",
      "  [ 8.  8.  8.  8.  8.]\n",
      "  [ 8.  8.  8.  8.  8.]]\n",
      "\n",
      " [[ 8.  8.  8.  8.  8.]\n",
      "  [ 8.  8.  8.  8.  8.]\n",
      "  [ 8.  8.  8.  8.  8.]\n",
      "  [ 8.  8.  8.  8.  8.]\n",
      "  [ 8.  8.  8.  8.  8.]]\n",
      "\n",
      " [[ 8.  8.  8.  8.  8.]\n",
      "  [ 8.  8.  8.  8.  8.]\n",
      "  [ 8.  8.  8.  8.  8.]\n",
      "  [ 8.  8.  8.  8.  8.]\n",
      "  [ 8.  8.  8.  8.  8.]]]\n"
     ]
    }
   ],
   "source": [
    "#11 Multiply arrays\n",
    "#Part B Multiplying (3,5,5) by (5,5)\n",
    "Y = np.ones((3,5,5))\n",
    "I = 8*np.ones((5,5))\n",
    "print (Y * I)"
   ]
  },
  {
   "cell_type": "code",
   "execution_count": 66,
   "metadata": {
    "collapsed": false
   },
   "outputs": [
    {
     "name": "stdout",
     "output_type": "stream",
     "text": [
      "[[[ 1  2  3  4]]\n",
      "\n",
      " [[ 2  3  4  5]]\n",
      "\n",
      " [[ 3  4  5  6]]\n",
      "\n",
      " [[ 4  5  6  7]]\n",
      "\n",
      " [[ 5  6  7  8]]\n",
      "\n",
      " [[ 6  7  8  9]]\n",
      "\n",
      " [[ 7  8  9 10]]\n",
      "\n",
      " [[ 8  9 10 11]]\n",
      "\n",
      " [[ 9 10 11 12]]\n",
      "\n",
      " [[10 11 12 13]]\n",
      "\n",
      " [[11 12 13 14]]]\n"
     ]
    }
   ],
   "source": [
    "#12 Creating a new array\n",
    "Z = np.arange(1,15)\n",
    "q = []\n",
    "for n in Z: \n",
    "    if n < 12:\n",
    "        p = np.array([n, n + 1, n + 2, n + 3])\n",
    "        q.append([p])\n",
    "        R = np.asarray(q)\n",
    "    elif n == 12 or n == 13:  \n",
    "        continue\n",
    "    else:\n",
    "        print(R)\n"
   ]
  },
  {
   "cell_type": "code",
   "execution_count": 64,
   "metadata": {
    "collapsed": false
   },
   "outputs": [
    {
     "data": {
      "text/plain": [
       "array([[6, 2],\n",
       "       [7, 8]])"
      ]
     },
     "execution_count": 64,
     "metadata": {},
     "output_type": "execute_result"
    }
   ],
   "source": [
    "#13 Convert from Cartesian to polar coordinates\n",
    "def cart2polar(xy): \n",
    "    x = xy[:,0] \n",
    "    y = xy[:,1]\n",
    "    r = np.sqrt(x**2 + y**2)\n",
    "    p = np.arctan2(y,x)\n",
    "    return np.transpose(np.array([r,p]))\n",
    "\n",
    "f = np.array([[6,2],[7,8]])\n",
    "f"
   ]
  },
  {
   "cell_type": "code",
   "execution_count": null,
   "metadata": {
    "collapsed": true
   },
   "outputs": [],
   "source": [
    "#14 Compute and time for loops and array operations\n",
    "import time \n",
    "a = np.arange(1024.0).reshape(4, 8, 16, 2)\n",
    "b = np.random.rand(4, 8, 16, 2)\n",
    "%timeit sol = a * b \n"
   ]
  },
  {
   "cell_type": "code",
   "execution_count": 37,
   "metadata": {
    "collapsed": false
   },
   "outputs": [
    {
     "name": "stdout",
     "output_type": "stream",
     "text": [
      "[[ 2.25  2.25]\n",
      " [ 2.25  2.25]\n",
      " [ 3.    3.  ]]\n"
     ]
    }
   ],
   "source": [
    "#15 Fix the code \n",
    "def calculate(a, b):\n",
    "    \"\"\"Do some calculations\n",
    "    \n",
    "    Take in two arrays, subtract 1/4 of the [:2,:] elements from the elements themselves.\n",
    "    Then multiply with array b and return the result.\n",
    "    \n",
    "    Inputs:\n",
    "        a: input array, shape [MxN]\n",
    "        b: input array, shape [M]\n",
    "    \n",
    "    Returns:\n",
    "        resultant array\n",
    "    \"\"\"\n",
    "\n",
    "    aa = a[:2, :]/4  #Added /4 and deleted the next line\n",
    "    a[:2, :] -= aa   \n",
    "    bb=b[:,None]     #Added bb equals to b[:,None]\n",
    "    return a*bb #Changed a to ac and added [:,None]\n",
    "    \n",
    "\n",
    "a = np.ones((3, 2))\n",
    "b = np.ones(3)*3\n",
    "res = calculate(a, b)\n",
    "print(res)\n",
    "assert (res == np.array([[ 2.25,  2.25],[ 2.25,  2.25],[ 3., 3.]])).all()"
   ]
  },
  {
   "cell_type": "code",
   "execution_count": 70,
   "metadata": {
    "collapsed": false
   },
   "outputs": [],
   "source": [
    "#16 Calculate components of a vector\n",
    "data = np.loadtxt('burl1h2010.txt')\n",
    "vdir = data[:,5]\n",
    "vspd = data[:,6]\n",
    "def winds(vdir, vspd):\n",
    "    d = np.radians(vdir)\n",
    "    u = (vspd)*np.cos(d)\n",
    "    v = (vspd)*np.sin(d)\n",
    "    return (u,v)\n"
   ]
  }
 ],
 "metadata": {
  "kernelspec": {
   "display_name": "Python 3",
   "language": "python",
   "name": "python3"
  },
  "language_info": {
   "codemirror_mode": {
    "name": "ipython",
    "version": 3
   },
   "file_extension": ".py",
   "mimetype": "text/x-python",
   "name": "python",
   "nbconvert_exporter": "python",
   "pygments_lexer": "ipython3",
   "version": "3.5.1"
  }
 },
 "nbformat": 4,
 "nbformat_minor": 0
}
